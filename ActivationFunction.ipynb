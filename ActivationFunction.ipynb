{
  "nbformat": 4,
  "nbformat_minor": 0,
  "metadata": {
    "colab": {
      "name": "ActivationFunction.ipynb",
      "provenance": [],
      "toc_visible": true,
      "authorship_tag": "ABX9TyMiSl75tWsMiExqntDYYknc",
      "include_colab_link": true
    },
    "kernelspec": {
      "name": "python3",
      "display_name": "Python 3"
    },
    "language_info": {
      "name": "python"
    }
  },
  "cells": [
    {
      "cell_type": "markdown",
      "metadata": {
        "id": "view-in-github",
        "colab_type": "text"
      },
      "source": [
        "<a href=\"https://colab.research.google.com/github/KhanUsman786/Deep-Learning/blob/main/ActivationFunction.ipynb\" target=\"_parent\"><img src=\"https://colab.research.google.com/assets/colab-badge.svg\" alt=\"Open In Colab\"/></a>"
      ]
    },
    {
      "cell_type": "markdown",
      "metadata": {
        "id": "zUbz7Ffb0hU8"
      },
      "source": [
        "##Sigmoid Function\n"
      ]
    },
    {
      "cell_type": "markdown",
      "metadata": {
        "id": "q9xcI0tL0mZk"
      },
      "source": [
        "FORMULLA :\n",
        "\n",
        "f(x) = (1 / 1 + e ^ -x)\n",
        "\n",
        "-> Sigmoid Function return the values between 0 to 1\n"
      ]
    },
    {
      "cell_type": "code",
      "metadata": {
        "id": "fffetZoi0Mpd"
      },
      "source": [
        "import math\n",
        "\n",
        "def sigmoid(x):\n",
        "  return 1/(1+math.exp(-x))"
      ],
      "execution_count": 16,
      "outputs": []
    },
    {
      "cell_type": "code",
      "metadata": {
        "colab": {
          "base_uri": "https://localhost:8080/"
        },
        "id": "Ee3XgjMp0515",
        "outputId": "c45bdd2c-9a4c-44b4-9e02-619b072bdced"
      },
      "source": [
        "sigmoid(2)"
      ],
      "execution_count": 17,
      "outputs": [
        {
          "output_type": "execute_result",
          "data": {
            "text/plain": [
              "0.8807970779778823"
            ]
          },
          "metadata": {
            "tags": []
          },
          "execution_count": 17
        }
      ]
    },
    {
      "cell_type": "markdown",
      "metadata": {
        "id": "CuD5Yi4z1YZv"
      },
      "source": [
        "##Tanh Function"
      ]
    },
    {
      "cell_type": "markdown",
      "metadata": {
        "id": "e0M0ul3S1e7H"
      },
      "source": [
        "FORMULLA:\n",
        "\n",
        "tanh(x) =( e^x - e^-x / e^x + e^-x)\n",
        "\n",
        "-> Tanh Function return the values between -1 to 1"
      ]
    },
    {
      "cell_type": "code",
      "metadata": {
        "id": "C9qy8q-708Wt"
      },
      "source": [
        "def tanh(x):\n",
        "  return (math.exp(x)-math.exp(-x))/ (math.exp(x)+math.exp(-x))"
      ],
      "execution_count": 18,
      "outputs": []
    },
    {
      "cell_type": "code",
      "metadata": {
        "colab": {
          "base_uri": "https://localhost:8080/"
        },
        "id": "Ql6W6f5W4GQD",
        "outputId": "e34f9213-62b5-4181-e827-a741d29fcd69"
      },
      "source": [
        "tanh(-56)"
      ],
      "execution_count": 19,
      "outputs": [
        {
          "output_type": "execute_result",
          "data": {
            "text/plain": [
              "-1.0"
            ]
          },
          "metadata": {
            "tags": []
          },
          "execution_count": 19
        }
      ]
    },
    {
      "cell_type": "code",
      "metadata": {
        "colab": {
          "base_uri": "https://localhost:8080/"
        },
        "id": "ir4jPxk-4IuP",
        "outputId": "190d14fc-4817-4a65-9c59-b5669388f42b"
      },
      "source": [
        "tanh(123)"
      ],
      "execution_count": 20,
      "outputs": [
        {
          "output_type": "execute_result",
          "data": {
            "text/plain": [
              "1.0"
            ]
          },
          "metadata": {
            "tags": []
          },
          "execution_count": 20
        }
      ]
    },
    {
      "cell_type": "code",
      "metadata": {
        "colab": {
          "base_uri": "https://localhost:8080/"
        },
        "id": "tPU7qTKn4LhR",
        "outputId": "05d398a0-f316-41e1-d4bb-246d9fef14b9"
      },
      "source": [
        "tanh(1)"
      ],
      "execution_count": 21,
      "outputs": [
        {
          "output_type": "execute_result",
          "data": {
            "text/plain": [
              "0.7615941559557649"
            ]
          },
          "metadata": {
            "tags": []
          },
          "execution_count": 21
        }
      ]
    },
    {
      "cell_type": "markdown",
      "metadata": {
        "id": "78KdV1-A4Qb2"
      },
      "source": [
        "##ReLu Function"
      ]
    },
    {
      "cell_type": "markdown",
      "metadata": {
        "id": "sLszi80m4YnC"
      },
      "source": [
        "FORMULLA :\n",
        "\n",
        "f(x) = max(0,x)\n",
        "\n",
        "-> ReLU Function return the values between 0 to 1\n",
        "\n",
        "->If given Value is less than 0: x<=0 ; o/p : 0\n",
        "\n",
        "->If given value is greater than 0: x>0 ; o/p : x"
      ]
    },
    {
      "cell_type": "code",
      "metadata": {
        "id": "BGt2PTJP4N7E"
      },
      "source": [
        "def relu(x):\n",
        "  return max(0,x)"
      ],
      "execution_count": 22,
      "outputs": []
    },
    {
      "cell_type": "code",
      "metadata": {
        "colab": {
          "base_uri": "https://localhost:8080/"
        },
        "id": "I0wd9aw85WXr",
        "outputId": "5025ec47-516b-473b-a621-1fd082406ffd"
      },
      "source": [
        "relu(-6)"
      ],
      "execution_count": 23,
      "outputs": [
        {
          "output_type": "execute_result",
          "data": {
            "text/plain": [
              "0"
            ]
          },
          "metadata": {
            "tags": []
          },
          "execution_count": 23
        }
      ]
    },
    {
      "cell_type": "code",
      "metadata": {
        "colab": {
          "base_uri": "https://localhost:8080/"
        },
        "id": "i8mhftkf5YQt",
        "outputId": "97356dcf-9aad-45fc-b8f8-d17606c0bf36"
      },
      "source": [
        "relu(6)"
      ],
      "execution_count": 24,
      "outputs": [
        {
          "output_type": "execute_result",
          "data": {
            "text/plain": [
              "6"
            ]
          },
          "metadata": {
            "tags": []
          },
          "execution_count": 24
        }
      ]
    },
    {
      "cell_type": "code",
      "metadata": {
        "colab": {
          "base_uri": "https://localhost:8080/"
        },
        "id": "Wsn-wSrd5Z9o",
        "outputId": "96c1db51-0a2a-4e50-d80a-d713b96055c2"
      },
      "source": [
        "relu(1)"
      ],
      "execution_count": 25,
      "outputs": [
        {
          "output_type": "execute_result",
          "data": {
            "text/plain": [
              "1"
            ]
          },
          "metadata": {
            "tags": []
          },
          "execution_count": 25
        }
      ]
    },
    {
      "cell_type": "markdown",
      "metadata": {
        "id": "nHNH-4PQ5hYy"
      },
      "source": [
        "## Leaky ReLU"
      ]
    },
    {
      "cell_type": "markdown",
      "metadata": {
        "id": "zttRLuN05lXr"
      },
      "source": [
        "FORMULLA : \n",
        "\n",
        "f(x) = max(0.1*x,x)\n",
        "\n",
        "->If given Value is less than 0: x<=0 ; o/p : 0.1*x (where x is i/p)\n",
        "\n",
        "->If given value is greater than 0: x>0 ; o/p : x"
      ]
    },
    {
      "cell_type": "code",
      "metadata": {
        "id": "vH6y_YiZ5bu2"
      },
      "source": [
        "def leaky_relu(x):\n",
        "  return (max(0.1*x,x))"
      ],
      "execution_count": 26,
      "outputs": []
    },
    {
      "cell_type": "code",
      "metadata": {
        "colab": {
          "base_uri": "https://localhost:8080/"
        },
        "id": "UEcl_u4R6xua",
        "outputId": "0770548f-4a91-45ca-a60b-2abc4a8633de"
      },
      "source": [
        "leaky_relu(-10)"
      ],
      "execution_count": 27,
      "outputs": [
        {
          "output_type": "execute_result",
          "data": {
            "text/plain": [
              "-1.0"
            ]
          },
          "metadata": {
            "tags": []
          },
          "execution_count": 27
        }
      ]
    },
    {
      "cell_type": "code",
      "metadata": {
        "colab": {
          "base_uri": "https://localhost:8080/"
        },
        "id": "VtwLmlQL60oM",
        "outputId": "a1253fbf-eb07-44d6-c9f5-f9a1e1fe360b"
      },
      "source": [
        "leaky_relu(2)"
      ],
      "execution_count": 28,
      "outputs": [
        {
          "output_type": "execute_result",
          "data": {
            "text/plain": [
              "2"
            ]
          },
          "metadata": {
            "tags": []
          },
          "execution_count": 28
        }
      ]
    },
    {
      "cell_type": "code",
      "metadata": {
        "colab": {
          "base_uri": "https://localhost:8080/"
        },
        "id": "YaIC5Mh963fd",
        "outputId": "35fa0247-5bb4-430b-fd4e-f35b497f1ad8"
      },
      "source": [
        "leaky_relu(92)"
      ],
      "execution_count": 15,
      "outputs": [
        {
          "output_type": "execute_result",
          "data": {
            "text/plain": [
              "92"
            ]
          },
          "metadata": {
            "tags": []
          },
          "execution_count": 15
        }
      ]
    },
    {
      "cell_type": "code",
      "metadata": {
        "id": "IMWJHkaCLRhb"
      },
      "source": [
        ""
      ],
      "execution_count": 28,
      "outputs": []
    }
  ]
}