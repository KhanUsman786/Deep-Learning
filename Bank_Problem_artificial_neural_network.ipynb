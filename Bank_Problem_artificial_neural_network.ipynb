{
  "nbformat": 4,
  "nbformat_minor": 0,
  "metadata": {
    "colab": {
      "name": "Copy of artificial_neural_network.ipynb",
      "provenance": [],
      "collapsed_sections": [],
      "toc_visible": true,
      "include_colab_link": true
    },
    "kernelspec": {
      "name": "python3",
      "display_name": "Python 3"
    }
  },
  "cells": [
    {
      "cell_type": "markdown",
      "metadata": {
        "id": "view-in-github",
        "colab_type": "text"
      },
      "source": [
        "<a href=\"https://colab.research.google.com/github/KhanUsman786/Deep-Learning/blob/main/Bank_Problem_artificial_neural_network.ipynb\" target=\"_parent\"><img src=\"https://colab.research.google.com/assets/colab-badge.svg\" alt=\"Open In Colab\"/></a>"
      ]
    },
    {
      "cell_type": "markdown",
      "metadata": {
        "id": "lP6JLo1tGNBg"
      },
      "source": [
        "# Artificial Neural Network"
      ]
    },
    {
      "cell_type": "markdown",
      "metadata": {
        "id": "gWZyYmS_UE_L"
      },
      "source": [
        "### Importing the libraries"
      ]
    },
    {
      "cell_type": "code",
      "metadata": {
        "id": "MxkJoQBkUIHC"
      },
      "source": [
        "import numpy as np\n",
        "import pandas as pd\n",
        "import tensorflow as tf"
      ],
      "execution_count": 2,
      "outputs": []
    },
    {
      "cell_type": "code",
      "metadata": {
        "id": "ZaTwK7ojXr2F",
        "colab": {
          "base_uri": "https://localhost:8080/",
          "height": 37
        },
        "outputId": "6a6e9c15-b7f7-4a6c-ce0b-fe4b816969c2"
      },
      "source": [
        "tf.__version__"
      ],
      "execution_count": 3,
      "outputs": [
        {
          "output_type": "execute_result",
          "data": {
            "application/vnd.google.colaboratory.intrinsic+json": {
              "type": "string"
            },
            "text/plain": [
              "'2.4.1'"
            ]
          },
          "metadata": {
            "tags": []
          },
          "execution_count": 3
        }
      ]
    },
    {
      "cell_type": "markdown",
      "metadata": {
        "id": "1E0Q3aoKUCRX"
      },
      "source": [
        "## Part 1 - Data Preprocessing"
      ]
    },
    {
      "cell_type": "markdown",
      "metadata": {
        "id": "cKWAkFVGUU0Z"
      },
      "source": [
        "### Importing the dataset"
      ]
    },
    {
      "cell_type": "code",
      "metadata": {
        "id": "MXUkhkMfU4wq"
      },
      "source": [
        "dataset = pd.read_csv('Churn_Modelling.csv')\n",
        "X = dataset.iloc[:, 3:-1].values\n",
        "y = dataset.iloc[:, -1].values"
      ],
      "execution_count": 6,
      "outputs": []
    },
    {
      "cell_type": "code",
      "metadata": {
        "colab": {
          "base_uri": "https://localhost:8080/",
          "height": 204
        },
        "id": "9vyMDcPed5D7",
        "outputId": "6d19979f-a9a8-4745-b704-771bc5c1066c"
      },
      "source": [
        "dataset.head()"
      ],
      "execution_count": 9,
      "outputs": [
        {
          "output_type": "execute_result",
          "data": {
            "text/html": [
              "<div>\n",
              "<style scoped>\n",
              "    .dataframe tbody tr th:only-of-type {\n",
              "        vertical-align: middle;\n",
              "    }\n",
              "\n",
              "    .dataframe tbody tr th {\n",
              "        vertical-align: top;\n",
              "    }\n",
              "\n",
              "    .dataframe thead th {\n",
              "        text-align: right;\n",
              "    }\n",
              "</style>\n",
              "<table border=\"1\" class=\"dataframe\">\n",
              "  <thead>\n",
              "    <tr style=\"text-align: right;\">\n",
              "      <th></th>\n",
              "      <th>RowNumber</th>\n",
              "      <th>CustomerId</th>\n",
              "      <th>Surname</th>\n",
              "      <th>CreditScore</th>\n",
              "      <th>Geography</th>\n",
              "      <th>Gender</th>\n",
              "      <th>Age</th>\n",
              "      <th>Tenure</th>\n",
              "      <th>Balance</th>\n",
              "      <th>NumOfProducts</th>\n",
              "      <th>HasCrCard</th>\n",
              "      <th>IsActiveMember</th>\n",
              "      <th>EstimatedSalary</th>\n",
              "      <th>Exited</th>\n",
              "    </tr>\n",
              "  </thead>\n",
              "  <tbody>\n",
              "    <tr>\n",
              "      <th>0</th>\n",
              "      <td>1</td>\n",
              "      <td>15634602</td>\n",
              "      <td>Hargrave</td>\n",
              "      <td>619</td>\n",
              "      <td>France</td>\n",
              "      <td>Female</td>\n",
              "      <td>42</td>\n",
              "      <td>2</td>\n",
              "      <td>0.00</td>\n",
              "      <td>1</td>\n",
              "      <td>1</td>\n",
              "      <td>1</td>\n",
              "      <td>101348.88</td>\n",
              "      <td>1</td>\n",
              "    </tr>\n",
              "    <tr>\n",
              "      <th>1</th>\n",
              "      <td>2</td>\n",
              "      <td>15647311</td>\n",
              "      <td>Hill</td>\n",
              "      <td>608</td>\n",
              "      <td>Spain</td>\n",
              "      <td>Female</td>\n",
              "      <td>41</td>\n",
              "      <td>1</td>\n",
              "      <td>83807.86</td>\n",
              "      <td>1</td>\n",
              "      <td>0</td>\n",
              "      <td>1</td>\n",
              "      <td>112542.58</td>\n",
              "      <td>0</td>\n",
              "    </tr>\n",
              "    <tr>\n",
              "      <th>2</th>\n",
              "      <td>3</td>\n",
              "      <td>15619304</td>\n",
              "      <td>Onio</td>\n",
              "      <td>502</td>\n",
              "      <td>France</td>\n",
              "      <td>Female</td>\n",
              "      <td>42</td>\n",
              "      <td>8</td>\n",
              "      <td>159660.80</td>\n",
              "      <td>3</td>\n",
              "      <td>1</td>\n",
              "      <td>0</td>\n",
              "      <td>113931.57</td>\n",
              "      <td>1</td>\n",
              "    </tr>\n",
              "    <tr>\n",
              "      <th>3</th>\n",
              "      <td>4</td>\n",
              "      <td>15701354</td>\n",
              "      <td>Boni</td>\n",
              "      <td>699</td>\n",
              "      <td>France</td>\n",
              "      <td>Female</td>\n",
              "      <td>39</td>\n",
              "      <td>1</td>\n",
              "      <td>0.00</td>\n",
              "      <td>2</td>\n",
              "      <td>0</td>\n",
              "      <td>0</td>\n",
              "      <td>93826.63</td>\n",
              "      <td>0</td>\n",
              "    </tr>\n",
              "    <tr>\n",
              "      <th>4</th>\n",
              "      <td>5</td>\n",
              "      <td>15737888</td>\n",
              "      <td>Mitchell</td>\n",
              "      <td>850</td>\n",
              "      <td>Spain</td>\n",
              "      <td>Female</td>\n",
              "      <td>43</td>\n",
              "      <td>2</td>\n",
              "      <td>125510.82</td>\n",
              "      <td>1</td>\n",
              "      <td>1</td>\n",
              "      <td>1</td>\n",
              "      <td>79084.10</td>\n",
              "      <td>0</td>\n",
              "    </tr>\n",
              "  </tbody>\n",
              "</table>\n",
              "</div>"
            ],
            "text/plain": [
              "   RowNumber  CustomerId   Surname  ...  IsActiveMember EstimatedSalary Exited\n",
              "0          1    15634602  Hargrave  ...               1       101348.88      1\n",
              "1          2    15647311      Hill  ...               1       112542.58      0\n",
              "2          3    15619304      Onio  ...               0       113931.57      1\n",
              "3          4    15701354      Boni  ...               0        93826.63      0\n",
              "4          5    15737888  Mitchell  ...               1        79084.10      0\n",
              "\n",
              "[5 rows x 14 columns]"
            ]
          },
          "metadata": {
            "tags": []
          },
          "execution_count": 9
        }
      ]
    },
    {
      "cell_type": "code",
      "metadata": {
        "id": "VYP9cQTWbzuI",
        "colab": {
          "base_uri": "https://localhost:8080/"
        },
        "outputId": "4e95551d-7ab4-4ff5-b4b2-1a996df7287b"
      },
      "source": [
        "print(X)"
      ],
      "execution_count": 7,
      "outputs": [
        {
          "output_type": "stream",
          "text": [
            "[[619 'France' 'Female' ... 1 1 101348.88]\n",
            " [608 'Spain' 'Female' ... 0 1 112542.58]\n",
            " [502 'France' 'Female' ... 1 0 113931.57]\n",
            " ...\n",
            " [709 'France' 'Female' ... 0 1 42085.58]\n",
            " [772 'Germany' 'Male' ... 1 0 92888.52]\n",
            " [792 'France' 'Female' ... 1 0 38190.78]]\n"
          ],
          "name": "stdout"
        }
      ]
    },
    {
      "cell_type": "code",
      "metadata": {
        "id": "38vKGE6Nb2RR",
        "colab": {
          "base_uri": "https://localhost:8080/"
        },
        "outputId": "e59a6205-736c-43a2-f6ef-2d34d4b42487"
      },
      "source": [
        "print(y)"
      ],
      "execution_count": 8,
      "outputs": [
        {
          "output_type": "stream",
          "text": [
            "[1 0 1 ... 1 1 0]\n"
          ],
          "name": "stdout"
        }
      ]
    },
    {
      "cell_type": "code",
      "metadata": {
        "colab": {
          "base_uri": "https://localhost:8080/"
        },
        "id": "LZdi5ntpfQAw",
        "outputId": "3cb04696-e849-422c-ec56-33dc462e07e4"
      },
      "source": [
        "dataset.isnull().sum()"
      ],
      "execution_count": 11,
      "outputs": [
        {
          "output_type": "execute_result",
          "data": {
            "text/plain": [
              "RowNumber          0\n",
              "CustomerId         0\n",
              "Surname            0\n",
              "CreditScore        0\n",
              "Geography          0\n",
              "Gender             0\n",
              "Age                0\n",
              "Tenure             0\n",
              "Balance            0\n",
              "NumOfProducts      0\n",
              "HasCrCard          0\n",
              "IsActiveMember     0\n",
              "EstimatedSalary    0\n",
              "Exited             0\n",
              "dtype: int64"
            ]
          },
          "metadata": {
            "tags": []
          },
          "execution_count": 11
        }
      ]
    },
    {
      "cell_type": "markdown",
      "metadata": {
        "id": "N6bQ0UgSU-NJ"
      },
      "source": [
        "### Encoding categorical data"
      ]
    },
    {
      "cell_type": "markdown",
      "metadata": {
        "id": "le5MJreAbW52"
      },
      "source": [
        "Label Encoding the \"Gender\" column"
      ]
    },
    {
      "cell_type": "code",
      "metadata": {
        "id": "zcfu9pItfIV3"
      },
      "source": [
        "from sklearn.preprocessing import LabelEncoder\n",
        "le=LabelEncoder()\n",
        "X[:, 2]=le.fit_transform(X[:,2])"
      ],
      "execution_count": 12,
      "outputs": []
    },
    {
      "cell_type": "code",
      "metadata": {
        "colab": {
          "base_uri": "https://localhost:8080/"
        },
        "id": "zFhLvW7Vf6mo",
        "outputId": "d538a9d2-0b46-4c9e-89bc-c585b3068498"
      },
      "source": [
        "print(X)"
      ],
      "execution_count": 13,
      "outputs": [
        {
          "output_type": "stream",
          "text": [
            "[[619 'France' 0 ... 1 1 101348.88]\n",
            " [608 'Spain' 0 ... 0 1 112542.58]\n",
            " [502 'France' 0 ... 1 0 113931.57]\n",
            " ...\n",
            " [709 'France' 0 ... 0 1 42085.58]\n",
            " [772 'Germany' 1 ... 1 0 92888.52]\n",
            " [792 'France' 0 ... 1 0 38190.78]]\n"
          ],
          "name": "stdout"
        }
      ]
    },
    {
      "cell_type": "markdown",
      "metadata": {
        "id": "CUxGZezpbMcb"
      },
      "source": [
        "One Hot Encoding the \"Geography\" column"
      ]
    },
    {
      "cell_type": "code",
      "metadata": {
        "id": "7v78aqWggAy_"
      },
      "source": [
        "from sklearn.compose import ColumnTransformer\n",
        "from sklearn.preprocessing import OneHotEncoder\n",
        "ct=ColumnTransformer(transformers=[('encoder', OneHotEncoder(),[1])],remainder='passthrough')\n",
        "X=np.array(ct.fit_transform(X))"
      ],
      "execution_count": 14,
      "outputs": []
    },
    {
      "cell_type": "code",
      "metadata": {
        "colab": {
          "base_uri": "https://localhost:8080/"
        },
        "id": "njOmOeLLhIIF",
        "outputId": "d2ce1617-4d97-433f-c8cc-dfff36661117"
      },
      "source": [
        "print(X)"
      ],
      "execution_count": 15,
      "outputs": [
        {
          "output_type": "stream",
          "text": [
            "[[1.0 0.0 0.0 ... 1 1 101348.88]\n",
            " [0.0 0.0 1.0 ... 0 1 112542.58]\n",
            " [1.0 0.0 0.0 ... 1 0 113931.57]\n",
            " ...\n",
            " [1.0 0.0 0.0 ... 0 1 42085.58]\n",
            " [0.0 1.0 0.0 ... 1 0 92888.52]\n",
            " [1.0 0.0 0.0 ... 1 0 38190.78]]\n"
          ],
          "name": "stdout"
        }
      ]
    },
    {
      "cell_type": "markdown",
      "metadata": {
        "id": "vHol938cW8zd"
      },
      "source": [
        "### Splitting the dataset into the Training set and Test set"
      ]
    },
    {
      "cell_type": "code",
      "metadata": {
        "id": "SNwyg46riAF9"
      },
      "source": [
        "from sklearn.model_selection import train_test_split\n",
        "X_train,X_test,y_train,y_test = train_test_split(X,y,test_size = 0.2,random_state = 0)"
      ],
      "execution_count": 17,
      "outputs": []
    },
    {
      "cell_type": "markdown",
      "metadata": {
        "id": "RE_FcHyfV3TQ"
      },
      "source": [
        "### Feature Scaling"
      ]
    },
    {
      "cell_type": "code",
      "metadata": {
        "id": "n6-7D6quifzG"
      },
      "source": [
        "from sklearn.preprocessing import StandardScaler\n",
        "sc = StandardScaler()\n",
        "X_train=sc.fit_transform(X_train)\n",
        "X_test=sc.transform(X_test)"
      ],
      "execution_count": 22,
      "outputs": []
    },
    {
      "cell_type": "code",
      "metadata": {
        "colab": {
          "base_uri": "https://localhost:8080/"
        },
        "id": "aagJ5xhljNwN",
        "outputId": "7ef85d38-8e22-4af9-f6b1-4c1b232e6f37"
      },
      "source": [
        "print(X_train)"
      ],
      "execution_count": 23,
      "outputs": [
        {
          "output_type": "stream",
          "text": [
            "[[-1.01460667 -0.5698444   1.74309049 ...  0.64259497 -1.03227043\n",
            "   1.10643166]\n",
            " [-1.01460667  1.75486502 -0.57369368 ...  0.64259497  0.9687384\n",
            "  -0.74866447]\n",
            " [ 0.98560362 -0.5698444  -0.57369368 ...  0.64259497 -1.03227043\n",
            "   1.48533467]\n",
            " ...\n",
            " [ 0.98560362 -0.5698444  -0.57369368 ...  0.64259497 -1.03227043\n",
            "   1.41231994]\n",
            " [-1.01460667 -0.5698444   1.74309049 ...  0.64259497  0.9687384\n",
            "   0.84432121]\n",
            " [-1.01460667  1.75486502 -0.57369368 ...  0.64259497 -1.03227043\n",
            "   0.32472465]]\n"
          ],
          "name": "stdout"
        }
      ]
    },
    {
      "cell_type": "markdown",
      "metadata": {
        "id": "-zfEzkRVXIwF"
      },
      "source": [
        "## Part 2 - Building the ANN"
      ]
    },
    {
      "cell_type": "markdown",
      "metadata": {
        "id": "KvdeScabXtlB"
      },
      "source": [
        "### Initializing the ANN"
      ]
    },
    {
      "cell_type": "code",
      "metadata": {
        "id": "NoxRPqbyldnc"
      },
      "source": [
        "ann = tf.keras.models.Sequential()"
      ],
      "execution_count": 25,
      "outputs": []
    },
    {
      "cell_type": "markdown",
      "metadata": {
        "id": "rP6urV6SX7kS"
      },
      "source": [
        "### Adding the input layer and the first hidden layer"
      ]
    },
    {
      "cell_type": "code",
      "metadata": {
        "id": "8A1afFOVmGYv"
      },
      "source": [
        "ann.add(tf.keras.layers.Dense(units=6,activation='relu'))"
      ],
      "execution_count": 26,
      "outputs": []
    },
    {
      "cell_type": "markdown",
      "metadata": {
        "id": "BELWAc_8YJze"
      },
      "source": [
        "### Adding the second hidden layer"
      ]
    },
    {
      "cell_type": "code",
      "metadata": {
        "id": "zrJh6Bz8nVQk"
      },
      "source": [
        "ann.add(tf.keras.layers.Dense(units=6,activation='relu'))"
      ],
      "execution_count": 27,
      "outputs": []
    },
    {
      "cell_type": "markdown",
      "metadata": {
        "id": "OyNEe6RXYcU4"
      },
      "source": [
        "### Adding the output layer"
      ]
    },
    {
      "cell_type": "code",
      "metadata": {
        "id": "K4qrAtUznkNi"
      },
      "source": [
        "ann.add(tf.keras.layers.Dense(units=1,activation='sigmoid'))"
      ],
      "execution_count": 28,
      "outputs": []
    },
    {
      "cell_type": "markdown",
      "metadata": {
        "id": "JT4u2S1_Y4WG"
      },
      "source": [
        "## Part 3 - Training the ANN"
      ]
    },
    {
      "cell_type": "markdown",
      "metadata": {
        "id": "8GWlJChhY_ZI"
      },
      "source": [
        "### Compiling the ANN"
      ]
    },
    {
      "cell_type": "code",
      "metadata": {
        "id": "f4YsR-nep2Hh"
      },
      "source": [
        "ann.compile(optimizer = 'adam', loss = 'binary_crossentropy', metrics = ['accuracy'])"
      ],
      "execution_count": 46,
      "outputs": []
    },
    {
      "cell_type": "markdown",
      "metadata": {
        "id": "0QR_G5u7ZLSM"
      },
      "source": [
        "### Training the ANN on the Training set"
      ]
    },
    {
      "cell_type": "code",
      "metadata": {
        "colab": {
          "base_uri": "https://localhost:8080/"
        },
        "id": "8wTJkFBCrjto",
        "outputId": "c2eee385-d724-424e-aaae-f89e1ffb49f3"
      },
      "source": [
        "ann.fit(X_train, y_train, batch_size = 32, epochs = 100)"
      ],
      "execution_count": 47,
      "outputs": [
        {
          "output_type": "stream",
          "text": [
            "Epoch 1/100\n",
            "250/250 [==============================] - 1s 909us/step - loss: 0.3742 - accuracy: 0.8548\n",
            "Epoch 2/100\n",
            "250/250 [==============================] - 0s 922us/step - loss: 0.3849 - accuracy: 0.8529\n",
            "Epoch 3/100\n",
            "250/250 [==============================] - 0s 949us/step - loss: 0.3901 - accuracy: 0.8481\n",
            "Epoch 4/100\n",
            "250/250 [==============================] - 0s 946us/step - loss: 0.3925 - accuracy: 0.8441\n",
            "Epoch 5/100\n",
            "250/250 [==============================] - 0s 983us/step - loss: 0.3875 - accuracy: 0.8459\n",
            "Epoch 6/100\n",
            "250/250 [==============================] - 0s 933us/step - loss: 0.3925 - accuracy: 0.8485\n",
            "Epoch 7/100\n",
            "250/250 [==============================] - 0s 918us/step - loss: 0.3969 - accuracy: 0.8451\n",
            "Epoch 8/100\n",
            "250/250 [==============================] - 0s 919us/step - loss: 0.3947 - accuracy: 0.8447\n",
            "Epoch 9/100\n",
            "250/250 [==============================] - 0s 965us/step - loss: 0.3843 - accuracy: 0.8502\n",
            "Epoch 10/100\n",
            "250/250 [==============================] - 0s 981us/step - loss: 0.3917 - accuracy: 0.8486\n",
            "Epoch 11/100\n",
            "250/250 [==============================] - 0s 950us/step - loss: 0.3894 - accuracy: 0.8475\n",
            "Epoch 12/100\n",
            "250/250 [==============================] - 0s 938us/step - loss: 0.3844 - accuracy: 0.8520\n",
            "Epoch 13/100\n",
            "250/250 [==============================] - 0s 974us/step - loss: 0.3863 - accuracy: 0.8508\n",
            "Epoch 14/100\n",
            "250/250 [==============================] - 0s 908us/step - loss: 0.3913 - accuracy: 0.8475\n",
            "Epoch 15/100\n",
            "250/250 [==============================] - 0s 937us/step - loss: 0.3866 - accuracy: 0.8481\n",
            "Epoch 16/100\n",
            "250/250 [==============================] - 0s 944us/step - loss: 0.3816 - accuracy: 0.8512\n",
            "Epoch 17/100\n",
            "250/250 [==============================] - 0s 943us/step - loss: 0.3913 - accuracy: 0.8468\n",
            "Epoch 18/100\n",
            "250/250 [==============================] - 0s 972us/step - loss: 0.3907 - accuracy: 0.8500\n",
            "Epoch 19/100\n",
            "250/250 [==============================] - 0s 958us/step - loss: 0.3826 - accuracy: 0.8516\n",
            "Epoch 20/100\n",
            "250/250 [==============================] - 0s 958us/step - loss: 0.3936 - accuracy: 0.8473\n",
            "Epoch 21/100\n",
            "250/250 [==============================] - 0s 973us/step - loss: 0.3704 - accuracy: 0.8606\n",
            "Epoch 22/100\n",
            "250/250 [==============================] - 0s 981us/step - loss: 0.3896 - accuracy: 0.8469\n",
            "Epoch 23/100\n",
            "250/250 [==============================] - 0s 958us/step - loss: 0.3883 - accuracy: 0.8497\n",
            "Epoch 24/100\n",
            "250/250 [==============================] - 0s 936us/step - loss: 0.3728 - accuracy: 0.8569\n",
            "Epoch 25/100\n",
            "250/250 [==============================] - 0s 957us/step - loss: 0.3840 - accuracy: 0.8494\n",
            "Epoch 26/100\n",
            "250/250 [==============================] - 0s 1ms/step - loss: 0.3850 - accuracy: 0.8525\n",
            "Epoch 27/100\n",
            "250/250 [==============================] - 0s 960us/step - loss: 0.3902 - accuracy: 0.8481\n",
            "Epoch 28/100\n",
            "250/250 [==============================] - 0s 904us/step - loss: 0.3771 - accuracy: 0.8551\n",
            "Epoch 29/100\n",
            "250/250 [==============================] - 0s 939us/step - loss: 0.3688 - accuracy: 0.8568\n",
            "Epoch 30/100\n",
            "250/250 [==============================] - 0s 994us/step - loss: 0.3897 - accuracy: 0.8489\n",
            "Epoch 31/100\n",
            "250/250 [==============================] - 0s 955us/step - loss: 0.3855 - accuracy: 0.8470\n",
            "Epoch 32/100\n",
            "250/250 [==============================] - 0s 986us/step - loss: 0.3903 - accuracy: 0.8470\n",
            "Epoch 33/100\n",
            "250/250 [==============================] - 0s 990us/step - loss: 0.3780 - accuracy: 0.8547\n",
            "Epoch 34/100\n",
            "250/250 [==============================] - 0s 1ms/step - loss: 0.3995 - accuracy: 0.8404\n",
            "Epoch 35/100\n",
            "250/250 [==============================] - 0s 969us/step - loss: 0.3987 - accuracy: 0.8451\n",
            "Epoch 36/100\n",
            "250/250 [==============================] - 0s 905us/step - loss: 0.3876 - accuracy: 0.8496\n",
            "Epoch 37/100\n",
            "250/250 [==============================] - 0s 951us/step - loss: 0.3867 - accuracy: 0.8466\n",
            "Epoch 38/100\n",
            "250/250 [==============================] - 0s 975us/step - loss: 0.4001 - accuracy: 0.8415\n",
            "Epoch 39/100\n",
            "250/250 [==============================] - 0s 937us/step - loss: 0.3851 - accuracy: 0.8509\n",
            "Epoch 40/100\n",
            "250/250 [==============================] - 0s 959us/step - loss: 0.3903 - accuracy: 0.8484\n",
            "Epoch 41/100\n",
            "250/250 [==============================] - 0s 987us/step - loss: 0.3963 - accuracy: 0.8410\n",
            "Epoch 42/100\n",
            "250/250 [==============================] - 0s 980us/step - loss: 0.3865 - accuracy: 0.8499\n",
            "Epoch 43/100\n",
            "250/250 [==============================] - 0s 962us/step - loss: 0.3970 - accuracy: 0.8444\n",
            "Epoch 44/100\n",
            "250/250 [==============================] - 0s 983us/step - loss: 0.3857 - accuracy: 0.8510\n",
            "Epoch 45/100\n",
            "250/250 [==============================] - 0s 965us/step - loss: 0.3831 - accuracy: 0.8504\n",
            "Epoch 46/100\n",
            "250/250 [==============================] - 0s 988us/step - loss: 0.3829 - accuracy: 0.8502\n",
            "Epoch 47/100\n",
            "250/250 [==============================] - 0s 877us/step - loss: 0.3860 - accuracy: 0.8510\n",
            "Epoch 48/100\n",
            "250/250 [==============================] - 0s 926us/step - loss: 0.3746 - accuracy: 0.8526\n",
            "Epoch 49/100\n",
            "250/250 [==============================] - 0s 1ms/step - loss: 0.3932 - accuracy: 0.8434\n",
            "Epoch 50/100\n",
            "250/250 [==============================] - 0s 997us/step - loss: 0.3904 - accuracy: 0.8482\n",
            "Epoch 51/100\n",
            "250/250 [==============================] - 0s 929us/step - loss: 0.3811 - accuracy: 0.8526\n",
            "Epoch 52/100\n",
            "250/250 [==============================] - 0s 905us/step - loss: 0.3857 - accuracy: 0.8495\n",
            "Epoch 53/100\n",
            "250/250 [==============================] - 0s 926us/step - loss: 0.3925 - accuracy: 0.8449\n",
            "Epoch 54/100\n",
            "250/250 [==============================] - 0s 917us/step - loss: 0.3847 - accuracy: 0.8510\n",
            "Epoch 55/100\n",
            "250/250 [==============================] - 0s 981us/step - loss: 0.3902 - accuracy: 0.8464\n",
            "Epoch 56/100\n",
            "250/250 [==============================] - 0s 900us/step - loss: 0.3912 - accuracy: 0.8440\n",
            "Epoch 57/100\n",
            "250/250 [==============================] - 0s 1ms/step - loss: 0.3768 - accuracy: 0.8528\n",
            "Epoch 58/100\n",
            "250/250 [==============================] - 0s 943us/step - loss: 0.3849 - accuracy: 0.8519\n",
            "Epoch 59/100\n",
            "250/250 [==============================] - 0s 944us/step - loss: 0.3890 - accuracy: 0.8471\n",
            "Epoch 60/100\n",
            "250/250 [==============================] - 0s 976us/step - loss: 0.3781 - accuracy: 0.8547\n",
            "Epoch 61/100\n",
            "250/250 [==============================] - 0s 949us/step - loss: 0.3986 - accuracy: 0.8417\n",
            "Epoch 62/100\n",
            "250/250 [==============================] - 0s 927us/step - loss: 0.3818 - accuracy: 0.8525\n",
            "Epoch 63/100\n",
            "250/250 [==============================] - 0s 954us/step - loss: 0.3864 - accuracy: 0.8499\n",
            "Epoch 64/100\n",
            "250/250 [==============================] - 0s 942us/step - loss: 0.3876 - accuracy: 0.8503\n",
            "Epoch 65/100\n",
            "250/250 [==============================] - 0s 950us/step - loss: 0.3938 - accuracy: 0.8447\n",
            "Epoch 66/100\n",
            "250/250 [==============================] - 0s 964us/step - loss: 0.3793 - accuracy: 0.8523\n",
            "Epoch 67/100\n",
            "250/250 [==============================] - 0s 1ms/step - loss: 0.3802 - accuracy: 0.8506\n",
            "Epoch 68/100\n",
            "250/250 [==============================] - 0s 964us/step - loss: 0.3953 - accuracy: 0.8452\n",
            "Epoch 69/100\n",
            "250/250 [==============================] - 0s 933us/step - loss: 0.3870 - accuracy: 0.8449\n",
            "Epoch 70/100\n",
            "250/250 [==============================] - 0s 920us/step - loss: 0.3843 - accuracy: 0.8503\n",
            "Epoch 71/100\n",
            "250/250 [==============================] - 0s 974us/step - loss: 0.3901 - accuracy: 0.8504\n",
            "Epoch 72/100\n",
            "250/250 [==============================] - 0s 954us/step - loss: 0.3842 - accuracy: 0.8489\n",
            "Epoch 73/100\n",
            "250/250 [==============================] - 0s 982us/step - loss: 0.3866 - accuracy: 0.8528\n",
            "Epoch 74/100\n",
            "250/250 [==============================] - 0s 954us/step - loss: 0.3968 - accuracy: 0.8446\n",
            "Epoch 75/100\n",
            "250/250 [==============================] - 0s 951us/step - loss: 0.3962 - accuracy: 0.8426\n",
            "Epoch 76/100\n",
            "250/250 [==============================] - 0s 949us/step - loss: 0.3890 - accuracy: 0.8448\n",
            "Epoch 77/100\n",
            "250/250 [==============================] - 0s 933us/step - loss: 0.3930 - accuracy: 0.8470\n",
            "Epoch 78/100\n",
            "250/250 [==============================] - 0s 1ms/step - loss: 0.3829 - accuracy: 0.8543\n",
            "Epoch 79/100\n",
            "250/250 [==============================] - 0s 1ms/step - loss: 0.3951 - accuracy: 0.8454\n",
            "Epoch 80/100\n",
            "250/250 [==============================] - 0s 939us/step - loss: 0.3817 - accuracy: 0.8521\n",
            "Epoch 81/100\n",
            "250/250 [==============================] - 0s 944us/step - loss: 0.3919 - accuracy: 0.8450\n",
            "Epoch 82/100\n",
            "250/250 [==============================] - 0s 980us/step - loss: 0.3757 - accuracy: 0.8516\n",
            "Epoch 83/100\n",
            "250/250 [==============================] - 0s 1ms/step - loss: 0.3896 - accuracy: 0.8468\n",
            "Epoch 84/100\n",
            "250/250 [==============================] - 0s 960us/step - loss: 0.3751 - accuracy: 0.8543\n",
            "Epoch 85/100\n",
            "250/250 [==============================] - 0s 917us/step - loss: 0.3868 - accuracy: 0.8477\n",
            "Epoch 86/100\n",
            "250/250 [==============================] - 0s 974us/step - loss: 0.3912 - accuracy: 0.8501\n",
            "Epoch 87/100\n",
            "250/250 [==============================] - 0s 954us/step - loss: 0.3907 - accuracy: 0.8476\n",
            "Epoch 88/100\n",
            "250/250 [==============================] - 0s 966us/step - loss: 0.3867 - accuracy: 0.8495\n",
            "Epoch 89/100\n",
            "250/250 [==============================] - 0s 935us/step - loss: 0.3860 - accuracy: 0.8483\n",
            "Epoch 90/100\n",
            "250/250 [==============================] - 0s 983us/step - loss: 0.3831 - accuracy: 0.8526\n",
            "Epoch 91/100\n",
            "250/250 [==============================] - 0s 986us/step - loss: 0.3790 - accuracy: 0.8523\n",
            "Epoch 92/100\n",
            "250/250 [==============================] - 0s 976us/step - loss: 0.3881 - accuracy: 0.8478\n",
            "Epoch 93/100\n",
            "250/250 [==============================] - 0s 964us/step - loss: 0.3881 - accuracy: 0.8473\n",
            "Epoch 94/100\n",
            "250/250 [==============================] - 0s 1ms/step - loss: 0.3863 - accuracy: 0.8455\n",
            "Epoch 95/100\n",
            "250/250 [==============================] - 0s 910us/step - loss: 0.3952 - accuracy: 0.8402\n",
            "Epoch 96/100\n",
            "250/250 [==============================] - 0s 1ms/step - loss: 0.3829 - accuracy: 0.8555\n",
            "Epoch 97/100\n",
            "250/250 [==============================] - 0s 995us/step - loss: 0.3884 - accuracy: 0.8462\n",
            "Epoch 98/100\n",
            "250/250 [==============================] - 0s 977us/step - loss: 0.3804 - accuracy: 0.8516\n",
            "Epoch 99/100\n",
            "250/250 [==============================] - 0s 954us/step - loss: 0.3872 - accuracy: 0.8504\n",
            "Epoch 100/100\n",
            "250/250 [==============================] - 0s 984us/step - loss: 0.3763 - accuracy: 0.8550\n"
          ],
          "name": "stdout"
        },
        {
          "output_type": "execute_result",
          "data": {
            "text/plain": [
              "<tensorflow.python.keras.callbacks.History at 0x7ffa7bca7dd0>"
            ]
          },
          "metadata": {
            "tags": []
          },
          "execution_count": 47
        }
      ]
    },
    {
      "cell_type": "markdown",
      "metadata": {
        "id": "tJj5k2MxZga3"
      },
      "source": [
        "## Part 4 - Making the predictions and evaluating the model"
      ]
    },
    {
      "cell_type": "markdown",
      "metadata": {
        "id": "84QFoqGYeXHL"
      },
      "source": [
        "### Predicting the result of a single observation"
      ]
    },
    {
      "cell_type": "markdown",
      "metadata": {
        "id": "CGRo3eacgDdC"
      },
      "source": [
        "**Predictiion for Single Customer**\n",
        "\n",
        "Use our ANN model to predict if the customer with the following informations will leave the bank: \n",
        "\n",
        "Geography: France\n",
        "\n",
        "Credit Score: 600\n",
        "\n",
        "Gender: Male\n",
        "\n",
        "Age: 40 years old\n",
        "\n",
        "Tenure: 3 years\n",
        "\n",
        "Balance: \\$ 60000\n",
        "\n",
        "Number of Products: 2\n",
        "\n",
        "Does this customer have a credit card? Yes\n",
        "\n",
        "Is this customer an Active Member: Yes\n",
        "\n",
        "Estimated Salary: \\$ 50000\n",
        "\n",
        "So, should we say goodbye to that customer?"
      ]
    },
    {
      "cell_type": "markdown",
      "metadata": {
        "id": "ZhU1LTgPg-kH"
      },
      "source": [
        "**Solution**"
      ]
    },
    {
      "cell_type": "code",
      "metadata": {
        "colab": {
          "base_uri": "https://localhost:8080/"
        },
        "id": "EwwcUxzgtNUV",
        "outputId": "bda93d8d-91d5-40a4-8a48-593ac7871c81"
      },
      "source": [
        "print(ann.predict(sc.transform([[1, 0, 0, 600, 1, 40, 3, 60000, 2, 1, 1, 50000]]))>0.5)"
      ],
      "execution_count": 48,
      "outputs": [
        {
          "output_type": "stream",
          "text": [
            "[[ True]]\n"
          ],
          "name": "stdout"
        }
      ]
    },
    {
      "cell_type": "markdown",
      "metadata": {
        "id": "wGjx94g2n7OV"
      },
      "source": [
        "Therefore, our ANN model predicts that this customer stays in the bank!\n",
        "\n",
        "**Important note 1:** Notice that the values of the features were all input in a double pair of square brackets. That's because the \"predict\" method always expects a 2D array as the format of its inputs. And putting our values into a double pair of square brackets makes the input exactly a 2D array.\n",
        "\n",
        "**Important note 2:** Notice also that the \"France\" country was not input as a string in the last column but as \"1, 0, 0\" in the first three columns. That's because of course the predict method expects the one-hot-encoded values of the state, and as we see in the first row of the matrix of features X, \"France\" was encoded as \"1, 0, 0\". And be careful to include these values in the first three columns, because the dummy variables are always created in the first columns."
      ]
    },
    {
      "cell_type": "markdown",
      "metadata": {
        "id": "u7yx47jPZt11"
      },
      "source": [
        "### Predicting the Test set results"
      ]
    },
    {
      "cell_type": "code",
      "metadata": {
        "colab": {
          "base_uri": "https://localhost:8080/"
        },
        "id": "YZkH9DJxvtZK",
        "outputId": "f53dece5-fdab-42b9-d025-c316e069e54f"
      },
      "source": [
        "y_pred =ann.predict(X_test)\n",
        "y_pred = (y_pred > 0.5)\n",
        "print(np.concatenate((y_pred.reshape(len(y_pred),1), y_test.reshape(len(y_test),1)),1))"
      ],
      "execution_count": 49,
      "outputs": [
        {
          "output_type": "stream",
          "text": [
            "[[0 0]\n",
            " [0 1]\n",
            " [0 0]\n",
            " ...\n",
            " [0 0]\n",
            " [0 0]\n",
            " [0 0]]\n"
          ],
          "name": "stdout"
        }
      ]
    },
    {
      "cell_type": "markdown",
      "metadata": {
        "id": "o0oyfLWoaEGw"
      },
      "source": [
        "### Making the Confusion Matrix"
      ]
    },
    {
      "cell_type": "code",
      "metadata": {
        "colab": {
          "base_uri": "https://localhost:8080/"
        },
        "id": "aZQwTf7mwP9J",
        "outputId": "0d70789b-1212-489f-a156-9686a8f7b1a2"
      },
      "source": [
        "from sklearn.metrics import accuracy_score,confusion_matrix\n",
        "cm = confusion_matrix(y_test, y_pred)\n",
        "print(cm)\n",
        "accuracy_score(y_test, y_pred)"
      ],
      "execution_count": 51,
      "outputs": [
        {
          "output_type": "stream",
          "text": [
            "[[1576   19]\n",
            " [ 312   93]]\n"
          ],
          "name": "stdout"
        },
        {
          "output_type": "execute_result",
          "data": {
            "text/plain": [
              "0.8345"
            ]
          },
          "metadata": {
            "tags": []
          },
          "execution_count": 51
        }
      ]
    }
  ]
}